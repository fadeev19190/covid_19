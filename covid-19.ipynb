{
 "cells": [
  {
   "cell_type": "code",
   "execution_count": null,
   "id": "3d1dcb81",
   "metadata": {
    "scrolled": true
   },
   "outputs": [],
   "source": [
    "import numpy as np\n",
    "import pandas as pd\n",
    "import matplotlib.pyplot as plt\n",
    "\n",
    "df = pd.read_csv('WHO-COVID-19-global-data.csv')\n",
    "df"
   ]
  },
  {
   "cell_type": "code",
   "execution_count": null,
   "id": "2976f264",
   "metadata": {
    "scrolled": false
   },
   "outputs": [],
   "source": [
    "df.info()"
   ]
  },
  {
   "cell_type": "code",
   "execution_count": null,
   "id": "ae5f07f0",
   "metadata": {},
   "outputs": [],
   "source": [
    "df['Country_code'].unique()"
   ]
  },
  {
   "cell_type": "code",
   "execution_count": null,
   "id": "b1426d94",
   "metadata": {},
   "outputs": [],
   "source": [
    "df.shape"
   ]
  },
  {
   "cell_type": "markdown",
   "id": "4e704c32",
   "metadata": {},
   "source": [
    "We will not target or exploit 'other' countries, as their status and intentions are not clearly defined."
   ]
  },
  {
   "cell_type": "code",
   "execution_count": null,
   "id": "8d089531",
   "metadata": {},
   "outputs": [],
   "source": [
    "condition = df['Country_code'] == ' '  \n",
    "rows_to_drop = df[condition].index\n",
    "\n",
    "df.drop(rows_to_drop, inplace=True)"
   ]
  },
  {
   "cell_type": "code",
   "execution_count": null,
   "id": "ce1274ca",
   "metadata": {
    "scrolled": true
   },
   "outputs": [],
   "source": [
    "df.shape"
   ]
  },
  {
   "cell_type": "code",
   "execution_count": null,
   "id": "77dc0654",
   "metadata": {},
   "outputs": [],
   "source": [
    "df['Country_code'].unique()"
   ]
  },
  {
   "cell_type": "code",
   "execution_count": null,
   "id": "fc2e6e01",
   "metadata": {},
   "outputs": [],
   "source": [
    "# Convert 'Date' column to datetime format\n",
    "df['Date_reported'] = pd.to_datetime(df['Date_reported'])\n",
    "\n",
    "# Group by 'Date' and sum the 'New Cases'\n",
    "cases_by_date = df.groupby('Date_reported')['New_cases'].sum().to_dict()"
   ]
  },
  {
   "cell_type": "code",
   "execution_count": null,
   "id": "bbf5aa73",
   "metadata": {
    "scrolled": true
   },
   "outputs": [],
   "source": [
    "import seaborn as sns\n",
    "\n",
    "fig, ax = plt.subplots(figsize=(50, 25))\n",
    "\n",
    "sns.scatterplot(x = cases_by_date.keys(), y = cases_by_date.values())\n",
    "\n",
    "ax.set_title(f\"Distribution of new cases\")\n",
    "plt.show()"
   ]
  },
  {
   "cell_type": "code",
   "execution_count": null,
   "id": "d1a06b7a",
   "metadata": {},
   "outputs": [],
   "source": [
    "# Group the data by 'Country' and sum the 'NewCases' column for each group\n",
    "count_cases_in_countries = df.groupby('Country_code')['New_cases'].sum()\n",
    "\n",
    "count_cases_in_countries"
   ]
  },
  {
   "cell_type": "code",
   "execution_count": null,
   "id": "ca7e0d5d",
   "metadata": {
    "scrolled": true
   },
   "outputs": [],
   "source": [
    "import geopandas as gpd\n",
    "import pycountry\n",
    "\n",
    "# Create a dictionary mapping ISO country codes to two-letter codes\n",
    "iso_to_alpha2 = {c.alpha_3: c.alpha_2 for c in pycountry.countries}\n",
    "\n",
    "# Load world map shapefile\n",
    "world_map = gpd.read_file(gpd.datasets.get_path('naturalearth_lowres'))\n",
    "\n",
    "# Convert the iso_a3 column to two-letter codes\n",
    "world_map['iso_a2'] = world_map['iso_a3'].map(iso_to_alpha2)\n",
    "\n",
    "# Merge country names and numbers with world map data\n",
    "world_map['New_cases'] = world_map['iso_a2'].map(count_cases_in_countries)\n",
    "\n",
    "world_map\n",
    "\n",
    "# Create a new figure and axis object\n",
    "fig, ax = plt.subplots(figsize=(100, 20))\n",
    "\n",
    "# Plot the map with cartogram\n",
    "world_map.plot(column='New_cases', ax=ax, legend=True, legend_kwds={'label': 'Number of Cases'})\n",
    "\n",
    "# Set axis labels and title\n",
    "ax.set_xlabel('Longitude')\n",
    "ax.set_ylabel('Latitude')\n",
    "ax.set_title('COVID-19 Cases by Country')\n",
    "\n",
    "# Display the map\n",
    "plt.show()"
   ]
  },
  {
   "cell_type": "code",
   "execution_count": null,
   "id": "bd8359a5",
   "metadata": {},
   "outputs": [],
   "source": [
    "counties_population = pd.read_csv('List_of_countries_and_dependencies_by_population_1.csv')\n",
    "\n",
    "counties_population.head()"
   ]
  },
  {
   "cell_type": "code",
   "execution_count": null,
   "id": "7770681d",
   "metadata": {},
   "outputs": [],
   "source": [
    "counties_population.drop('Unnamed: 0', axis=1, inplace=True)\n",
    "counties_population.drop('Unnamed: 6', axis=1, inplace=True)\n",
    "counties_population.drop('Date', axis=1, inplace=True)\n",
    "counties_population.drop('Source (official or from\\nthe United Nations)', axis=1, inplace=True)"
   ]
  },
  {
   "cell_type": "code",
   "execution_count": null,
   "id": "65a69b1b",
   "metadata": {
    "scrolled": false
   },
   "outputs": [],
   "source": [
    "counties_population"
   ]
  },
  {
   "cell_type": "code",
   "execution_count": null,
   "id": "2ebcafd0",
   "metadata": {},
   "outputs": [],
   "source": [
    "countries_list = df[\"Country\"].unique()\n",
    "print(countries_list)"
   ]
  },
  {
   "cell_type": "code",
   "execution_count": null,
   "id": "1f2fcc9e",
   "metadata": {},
   "outputs": [],
   "source": [
    "cases_count = {}\n",
    "\n",
    "for country in countries_list:\n",
    "    cases_count[country] = 0\n",
    "\n",
    "for country in countries_list:\n",
    "    value_counts = df[df['Country'] == country]['New_cases']\n",
    "    total_new_cases = value_counts.sum()\n",
    "    cases_count[country] = total_new_cases\n",
    "\n",
    "old_countries = cases_count.keys()\n",
    "set(old_countries)"
   ]
  },
  {
   "cell_type": "code",
   "execution_count": null,
   "id": "5ddcac6e",
   "metadata": {
    "scrolled": true
   },
   "outputs": [],
   "source": [
    "cases_count"
   ]
  },
  {
   "cell_type": "code",
   "execution_count": null,
   "id": "2c2c2751",
   "metadata": {},
   "outputs": [],
   "source": [
    "new_countries = set(counties_population['Country / Dependency'].unique())\n",
    "new_countries"
   ]
  },
  {
   "cell_type": "code",
   "execution_count": null,
   "id": "22222ea2",
   "metadata": {},
   "outputs": [],
   "source": [
    "key_changes = {'American Samoa' : 'American Samoa (US)',\n",
    "              'Bermuda': 'Bermuda (UK)',\n",
    "              'Bolivia (Plurinational State of)': 'Bolivia',\n",
    "              'British Virgin Islands': 'British Virgin Islands (UK)',\n",
    "              'Brunei Darussalam': 'Brunei',\n",
    "              'Cabo Verde': 'Cape Verde',\n",
    "              'Cayman Islands': 'Cayman Islands (UK)',\n",
    "              'Czechia': 'Czech Republic',\n",
    "              'Democratic Republic of the Congo': 'DR Congo',\n",
    "              'Greenland': 'Greenland (Denmark)',\n",
    "              'Iran (Islamic Republic of)' : 'Iran',\n",
    "              \"Democratic People's Republic of Korea\": 'North Korea',\n",
    "              'occupied Palestinian territory, including east Jerusalem': 'Palestine', \n",
    "              'Russian Federation': 'Russia',\n",
    "              'Republic of Korea': 'South Korea',\n",
    "              'Republic of Moldova': ' Moldova',\n",
    "              'Syrian Arab Republic': 'Syria',\n",
    "              'Türkiye': 'Turkey',\n",
    "              'Turkmenistan': 'Turkmenistan',\n",
    "              'The United Kingdom': 'United Kingdom',\n",
    "              'United States of America': 'United States', \n",
    "              'Viet Nam': 'Vietnam'}"
   ]
  },
  {
   "cell_type": "code",
   "execution_count": null,
   "id": "137ef8a0",
   "metadata": {},
   "outputs": [],
   "source": [
    "def replace_country_names(original_dict, key_mapping):\n",
    "    new_dict = {}\n",
    "    for country, value in original_dict.items():\n",
    "        new_country = key_mapping.get(country, country) \n",
    "        new_dict[new_country] = value\n",
    "    return new_dict\n",
    "\n",
    "# Replace keys using the function\n",
    "new_dict = replace_country_names(cases_count, key_changes)\n",
    "\n",
    "new_dict"
   ]
  },
  {
   "cell_type": "code",
   "execution_count": null,
   "id": "f6cd6bd2",
   "metadata": {},
   "outputs": [],
   "source": [
    "counties_population['disease_cases'] = counties_population['Country / Dependency'].map(new_dict).fillna(0)"
   ]
  },
  {
   "cell_type": "code",
   "execution_count": null,
   "id": "6079c85d",
   "metadata": {},
   "outputs": [],
   "source": [
    "counties_population"
   ]
  },
  {
   "cell_type": "code",
   "execution_count": null,
   "id": "a0fbf943",
   "metadata": {
    "scrolled": false
   },
   "outputs": [],
   "source": [
    "counties_population[counties_population['disease_cases'] ==0]['Country / Dependency']"
   ]
  },
  {
   "cell_type": "markdown",
   "id": "bb7865a0",
   "metadata": {},
   "source": [
    "There arent important (big) countries, we can delete them"
   ]
  },
  {
   "cell_type": "code",
   "execution_count": null,
   "id": "9e389896",
   "metadata": {},
   "outputs": [],
   "source": [
    "counties_population.loc[0, 'disease_cases'] = counties_population['disease_cases'].sum()"
   ]
  },
  {
   "cell_type": "code",
   "execution_count": null,
   "id": "3c584489",
   "metadata": {},
   "outputs": [],
   "source": [
    "counties_population = counties_population[counties_population['disease_cases'] != 0]\n",
    "counties_population"
   ]
  },
  {
   "cell_type": "code",
   "execution_count": null,
   "id": "65e6c7e4",
   "metadata": {
    "scrolled": true
   },
   "outputs": [],
   "source": [
    "counties_population.reset_index(drop=True, inplace=True)\n",
    "counties_population.info()"
   ]
  },
  {
   "cell_type": "code",
   "execution_count": null,
   "id": "37ad8cf9",
   "metadata": {
    "scrolled": true
   },
   "outputs": [],
   "source": [
    "def convert_to_int(formatted_string):\n",
    "    return int(formatted_string.replace(',', ''))\n",
    "\n",
    "counties_population['Population'] = counties_population['Population'].apply(convert_to_int)"
   ]
  },
  {
   "cell_type": "code",
   "execution_count": null,
   "id": "7cef7b6e",
   "metadata": {},
   "outputs": [],
   "source": [
    "counties_population"
   ]
  },
  {
   "cell_type": "code",
   "execution_count": null,
   "id": "76a6e55d",
   "metadata": {
    "scrolled": false
   },
   "outputs": [],
   "source": [
    "counties_population['Presentege_sick_in_country'] = round((counties_population['disease_cases'] / counties_population['Population']) * 100, 2)\n",
    "\n",
    "counties_population['Presentege_sick_in_country'] = counties_population['Presentege_sick_in_country'].astype(str) + '%'\n",
    "\n",
    "counties_population['Presentege_sick_in_world'] = round((counties_population['disease_cases'] / counties_population.loc[0, 'disease_cases']) * 100, 2)\n",
    "\n",
    "counties_population['Presentege_sick_in_world'] = counties_population['Presentege_sick_in_world'].astype(str) + '%'\n",
    "\n",
    "counties_population"
   ]
  },
  {
   "cell_type": "code",
   "execution_count": null,
   "id": "328d414f",
   "metadata": {
    "scrolled": true
   },
   "outputs": [],
   "source": [
    "country_codes = {\n",
    "    'World': '',\n",
    "    'China': 'CN',\n",
    "    'India': 'IN',\n",
    "    'United States': 'US',\n",
    "    'Indonesia': 'ID',\n",
    "    'Pakistan': 'PK',\n",
    "    'Nigeria': 'NG',\n",
    "    'Brazil': 'BR',\n",
    "    'Bangladesh': 'BD',\n",
    "    'Russia': 'RU',\n",
    "    'Mexico': 'MX',\n",
    "    'Japan': 'JP',\n",
    "    'Philippines': 'PH',\n",
    "    'Ethiopia': 'ET',\n",
    "    'Egypt': 'EG',\n",
    "    'Vietnam': 'VN',\n",
    "    'DR Congo': 'CD',\n",
    "    'Turkey': 'TR',\n",
    "    'Iran': 'IR',\n",
    "    'Germany': 'DE',\n",
    "    'Thailand': 'TH',\n",
    "    'France': 'FR',\n",
    "    'United Kingdom': 'GB',\n",
    "    'South Africa': 'ZA',\n",
    "    'Italy': 'IT',\n",
    "    'Myanmar': 'MM',\n",
    "    'Colombia': 'CO',\n",
    "    'Kenya': 'KE',\n",
    "    'South Korea': 'KR',\n",
    "    'Spain': 'ES',\n",
    "    'Argentina': 'AR',\n",
    "    'Algeria': 'DZ',\n",
    "    'Iraq': 'IQ',\n",
    "    'Uganda': 'UG',\n",
    "    'Sudan': 'SD',\n",
    "    'Ukraine': 'UA',\n",
    "    'Canada': 'CA',\n",
    "    'Poland': 'PL',\n",
    "    'Morocco': 'MA',\n",
    "    'Uzbekistan': 'UZ',\n",
    "    'Afghanistan': 'AF',\n",
    "    'Peru': 'PE',\n",
    "    'Angola': 'AO',\n",
    "    'Malaysia': 'MY',\n",
    "    'Mozambique': 'MZ',\n",
    "    'Saudi Arabia': 'SA',\n",
    "    'Yemen': 'YE',\n",
    "    'Ghana': 'GH',\n",
    "    'Nepal': 'NP',\n",
    "    'Madagascar': 'MG',\n",
    "    'Australia': 'AU',\n",
    "    'Cameroon': 'CM',\n",
    "    'Niger': 'NE',\n",
    "    'Mali': 'ML',\n",
    "    'Syria': 'SY',\n",
    "    'Burkina Faso': 'BF',\n",
    "    'Sri Lanka': 'LK',\n",
    "    'Malawi': 'MW',\n",
    "    'Chile': 'CL',\n",
    "    'Kazakhstan': 'KZ',\n",
    "    'Zambia': 'ZM',\n",
    "    'Romania': 'RO',\n",
    "    'Ecuador': 'EC',\n",
    "    'Somalia': 'SO',\n",
    "    'Netherlands': 'NL',\n",
    "    'Senegal': 'SN',\n",
    "    'Guatemala': 'GT',\n",
    "    'Chad': 'TD',\n",
    "    'Cambodia': 'KH',\n",
    "    'Zimbabwe': 'ZW',\n",
    "    'Guinea': 'GN',\n",
    "    'South Sudan': 'SS',\n",
    "    'Rwanda': 'RW',\n",
    "    'Burundi': 'BI',\n",
    "    'Benin': 'BJ',\n",
    "    'Bolivia': 'BO',\n",
    "    'Tunisia': 'TN',\n",
    "    'Papua New Guinea': 'PG',\n",
    "    'Belgium': 'BE',\n",
    "    'Haiti': 'HT',\n",
    "    'Jordan': 'JO',\n",
    "    'Cuba': 'CU',\n",
    "    'Czech Republic': 'CZ',\n",
    "    'Sweden': 'SE',\n",
    "    'Dominican Republic': 'DO',\n",
    "    'Greece': 'GR',\n",
    "    'Portugal': 'PT',\n",
    "    'Azerbaijan': 'AZ',\n",
    "    'Tajikistan': 'TJ',\n",
    "    'Israel': 'IL',\n",
    "    'Honduras': 'HN',\n",
    "    'Hungary': 'HU',\n",
    "    'United Arab Emirates': 'AE',\n",
    "    'Belarus': 'BY',\n",
    "    'Austria': 'AT',\n",
    "    'Switzerland': 'CH',\n",
    "    'Sierra Leone': 'SL',\n",
    "    'Togo': 'TG',\n",
    "    'Paraguay': 'PY',\n",
    "    'Kyrgyzstan': 'KG',\n",
    "    'Libya': 'LY',\n",
    "    'El Salvador': 'SV',\n",
    "    'Serbia': 'RS',\n",
    "    'Nicaragua': 'NI',\n",
    "    'Bulgaria': 'BG',\n",
    "    'Congo': 'CG',\n",
    "    'Denmark': 'DK',\n",
    "    'Central African Republic': 'CF',\n",
    "    'Finland': 'FI',\n",
    "    'Norway': 'NO',\n",
    "    'Lebanon': 'LB',\n",
    "    'Palestine': 'PS',\n",
    "    'Singapore': 'SG',\n",
    "    'Slovakia': 'SK',\n",
    "    'Costa Rica': 'CR',\n",
    "    'New Zealand': 'NZ',\n",
    "    'Ireland': 'IE',\n",
    "    'Oman': 'OM',\n",
    "    'Kuwait': 'KW',\n",
    "    'Liberia': 'LR',\n",
    "    'Mauritania': 'MR',\n",
    "    'Panama': 'PA',\n",
    "    'Croatia': 'HR',\n",
    "    'Eritrea': 'ER',\n",
    "    'Georgia': 'GE',\n",
    "    'Uruguay': 'UY',\n",
    "    'Mongolia': 'MN',\n",
    "    'Bosnia and Herzegovina': 'BA',\n",
    "    'Qatar': 'QA',\n",
    "    'Armenia': 'AM',\n",
    "    'Lithuania': 'LT',\n",
    "    'Jamaica': 'JM',\n",
    "    'Albania': 'AL',\n",
    "    'Namibia': 'NA',\n",
    "    'Gambia': 'GM',\n",
    "    'Botswana': 'BW',\n",
    "    'Lesotho': 'LS',\n",
    "    'Gabon': 'GA',\n",
    "    'Slovenia': 'SI',\n",
    "    'Latvia': 'LV',\n",
    "    'North Macedonia': 'MK',\n",
    "    'Guinea-Bissau': 'GW',\n",
    "    'Equatorial Guinea': 'GQ',\n",
    "    'Bahrain': 'BH',\n",
    "    'Estonia': 'EE',\n",
    "    'Trinidad and Tobago': 'TT',\n",
    "    'Mauritius': 'MU',\n",
    "    'Eswatini': 'SZ',\n",
    "    'Djibouti': 'DJ',\n",
    "    'Cyprus': 'CY',\n",
    "    'Fiji': 'FJ',\n",
    "    'Bhutan': 'BT',\n",
    "    'Comoros': 'KM',\n",
    "    'Guyana': 'GY',\n",
    "    'Solomon Islands': 'SB',\n",
    "    'Luxembourg': 'LU',\n",
    "    'Montenegro': 'ME',\n",
    "    'Suriname': 'SR',\n",
    "    'Cape Verde': 'CV',\n",
    "    'Malta': 'MT',\n",
    "    'Belize': 'BZ',\n",
    "    'Brunei': 'BN',\n",
    "    'Maldives': 'MV',\n",
    "    'Bahamas': 'BS',\n",
    "    'Iceland': 'IS',\n",
    "    'Vanuatu': 'VU',\n",
    "    'Barbados': 'BB',\n",
    "    'Samoa': 'WS',\n",
    "    'Saint Lucia': 'LC',\n",
    "    'Kiribati': 'KI',\n",
    "    'Grenada': 'GD',\n",
    "    'Saint Vincent and the Grenadines': 'VC',\n",
    "    'Antigua and Barbuda': 'AG',\n",
    "    'Seychelles': 'SC',\n",
    "    'Tonga': 'TO',\n",
    "    'Andorra': 'AD',\n",
    "    'Cayman Islands (UK)': 'KY',\n",
    "    'Dominica': 'DM',\n",
    "    'Bermuda (UK)': 'BM',\n",
    "    'Greenland (Denmark)': 'GL',\n",
    "    'American Samoa (US)': 'AS',\n",
    "    'Saint Kitts and Nevis': 'KN',\n",
    "    'Liechtenstein': 'LI',\n",
    "    'Marshall Islands': 'MH',\n",
    "    'Monaco': 'MC',\n",
    "    'San Marino': 'SM',\n",
    "    'British Virgin Islands (UK)': 'VG',\n",
    "    'Palau': 'PW',\n",
    "    'Cook Islands': 'CK',\n",
    "    'Nauru': 'NR',\n",
    "    'Tuvalu': 'TV',\n",
    "    'Niue': 'NU'\n",
    "}\n",
    "\n",
    "counties_population['iso_a2'] = country_codes.values()\n",
    "\n",
    "counties_population"
   ]
  },
  {
   "cell_type": "code",
   "execution_count": null,
   "id": "c3093c56",
   "metadata": {},
   "outputs": [],
   "source": [
    "counties_population.columns"
   ]
  },
  {
   "cell_type": "code",
   "execution_count": null,
   "id": "20d529a5",
   "metadata": {
    "scrolled": true
   },
   "outputs": [],
   "source": [
    "precentage_sick = counties_population[['Presentege_sick_in_world', 'iso_a2']]"
   ]
  },
  {
   "cell_type": "code",
   "execution_count": null,
   "id": "94e6f3c7",
   "metadata": {
    "scrolled": true
   },
   "outputs": [],
   "source": [
    "counties_population"
   ]
  },
  {
   "cell_type": "code",
   "execution_count": null,
   "id": "4aaa329e",
   "metadata": {},
   "outputs": [],
   "source": [
    "percentage = (counties_population['disease_cases'] / counties_population.loc[0, 'Population']) * 100\n",
    "percentage = percentage.round(2)\n",
    "\n",
    "df_for_map = pd.DataFrame({\n",
    "    'iso_a2': counties_population['iso_a2'],\n",
    "    'percentage': percentage\n",
    "})\n",
    "\n",
    "df_for_map.drop(df_for_map.index[0], inplace=True)\n",
    "df_for_map.reset_index(drop=True)\n",
    "\n",
    "df_for_map_series = df_for_map.groupby('iso_a2')['percentage'].mean()\n",
    "\n",
    "print(df_for_map_series)"
   ]
  },
  {
   "cell_type": "code",
   "execution_count": null,
   "id": "a3117c0d",
   "metadata": {},
   "outputs": [],
   "source": [
    "# Create a dictionary mapping ISO country codes to two-letter codes\n",
    "iso_to_alpha2 = {c.alpha_3: c.alpha_2 for c in pycountry.countries}\n",
    "\n",
    "# Load world map shapefile\n",
    "world_map = gpd.read_file(gpd.datasets.get_path('naturalearth_lowres'))\n",
    "\n",
    "# Convert the iso_a3 column to two-letter codes\n",
    "world_map['iso_a2'] = world_map['iso_a3'].map(iso_to_alpha2)\n",
    "\n",
    "# Merge country names and numbers with world map data\n",
    "world_map['percentege_in_country'] = world_map['iso_a2'].map(df_for_map_series)\n",
    "\n",
    "# Create a new figure and axis object\n",
    "fig, ax = plt.subplots(figsize=(100, 20))\n",
    "\n",
    "# Plot the map with cartogram\n",
    "world_map.plot(column='percentege_in_country', ax=ax, legend=True, legend_kwds={'label': 'percentege_in_country'})\n",
    "\n",
    "# Set axis labels and title\n",
    "ax.set_xlabel('Longitude')\n",
    "ax.set_ylabel('Latitude')\n",
    "ax.set_title('COVID-19 Cases presentege sick in the world')\n",
    "\n",
    "# Display the map\n",
    "plt.show()"
   ]
  },
  {
   "cell_type": "code",
   "execution_count": null,
   "id": "05ca3318",
   "metadata": {},
   "outputs": [],
   "source": []
  }
 ],
 "metadata": {
  "kernelspec": {
   "display_name": "Python 3 (ipykernel)",
   "language": "python",
   "name": "python3"
  },
  "language_info": {
   "codemirror_mode": {
    "name": "ipython",
    "version": 3
   },
   "file_extension": ".py",
   "mimetype": "text/x-python",
   "name": "python",
   "nbconvert_exporter": "python",
   "pygments_lexer": "ipython3",
   "version": "3.11.2"
  }
 },
 "nbformat": 4,
 "nbformat_minor": 5
}
